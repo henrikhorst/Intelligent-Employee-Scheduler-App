{
 "cells": [
  {
   "attachments": {},
   "cell_type": "markdown",
   "metadata": {},
   "source": [
    "# Pflegekräfte Schichtplanung"
   ]
  },
  {
   "attachments": {},
   "cell_type": "markdown",
   "metadata": {},
   "source": [
    "In diesem Beispiel muss eine Station eine Schichtplanung erstellen für vier Pflegekräfte und für 3 Tage unter folgenden Bedingungen:\n",
    "- Jeder Tag ist unterteilt in drei 8 Stunden Schichten\n",
    "- Jeden Tag ist jede Schicht einer Pflegekraft zugeteilt und keine Pflegekraft arbeitet mehr als eine Schicht\n",
    "- Jede Pflegekraft erhält mindestens 2 Schichten während den drei Tagen"
   ]
  },
  {
   "cell_type": "code",
   "execution_count": 2,
   "metadata": {},
   "outputs": [],
   "source": [
    "from ortools.sat.python import cp_model"
   ]
  },
  {
   "attachments": {},
   "cell_type": "markdown",
   "metadata": {},
   "source": [
    "Create the data"
   ]
  },
  {
   "cell_type": "code",
   "execution_count": 3,
   "metadata": {},
   "outputs": [],
   "source": [
    "num_nurses = 4\n",
    "num_shifts = 3\n",
    "num_days = 3\n",
    "all_nurses = range(num_nurses)\n",
    "all_shifts = range(num_shifts)\n",
    "all_days = range(num_days)"
   ]
  },
  {
   "attachments": {},
   "cell_type": "markdown",
   "metadata": {},
   "source": [
    "Create the model"
   ]
  },
  {
   "cell_type": "code",
   "execution_count": 4,
   "metadata": {},
   "outputs": [],
   "source": [
    "model = cp_model.CpModel()"
   ]
  },
  {
   "cell_type": "code",
   "execution_count": 6,
   "metadata": {},
   "outputs": [],
   "source": [
    "# Creates a boolean value for all possible combinations\n",
    "shifts = {}\n",
    "for n in all_nurses:\n",
    "    for d in all_days:\n",
    "        for s in all_shifts:\n",
    "            shifts[(n, d, s)] = model.NewBoolVar(f'shift_n{n}d{d}s{s}')"
   ]
  },
  {
   "attachments": {},
   "cell_type": "markdown",
   "metadata": {},
   "source": [
    "The array defines assignments for shifts to nurses as follows: shifts[(n, d, s)] equals 1 if shift s is assigned to nurse n on day d, and 0 otherwise.\n",
    "Assign nurses to shifts\n",
    "\n",
    "Next, we show how to assign nurses to shifts subject to the following constraints:\n",
    "\n",
    "    Each shift is assigned to a single nurse per day.\n",
    "    Each nurse works at most one shift per day.\n",
    "\n",
    "Here's the code that creates the first condition."
   ]
  },
  {
   "cell_type": "code",
   "execution_count": 8,
   "metadata": {},
   "outputs": [],
   "source": [
    "for d in all_days:\n",
    "    for s in all_shifts:\n",
    "        model.AddExactlyOne(shifts[(n, d, s)] for n in all_nurses)"
   ]
  },
  {
   "cell_type": "code",
   "execution_count": 9,
   "metadata": {},
   "outputs": [],
   "source": [
    "for n in all_nurses:\n",
    "    for d in all_days:\n",
    "        model.AddAtMostOne(shifts[(n, d, s)] for s in all_shifts)"
   ]
  },
  {
   "cell_type": "code",
   "execution_count": 10,
   "metadata": {},
   "outputs": [],
   "source": [
    "# Try to distribute the shifts evenly, so that each nurse works\n",
    "# min_shifts_per_nurse shifts. If this is not possible, because the total\n",
    "# number of shifts is not divisible by the number of nurses, some nurses will\n",
    "# be assigned one more shift.\n",
    "min_shifts_per_nurse = (num_shifts * num_days) // num_nurses\n",
    "if num_shifts * num_days % num_nurses == 0:\n",
    "    max_shifts_per_nurse = min_shifts_per_nurse\n",
    "else:\n",
    "    max_shifts_per_nurse = min_shifts_per_nurse + 1\n",
    "for n in all_nurses:\n",
    "    shifts_worked = []\n",
    "    for d in all_days:\n",
    "        for s in all_shifts:\n",
    "            shifts_worked.append(shifts[(n, d, s)])\n",
    "    model.Add(min_shifts_per_nurse <= sum(shifts_worked))\n",
    "    model.Add(sum(shifts_worked) <= max_shifts_per_nurse)"
   ]
  },
  {
   "attachments": {},
   "cell_type": "markdown",
   "metadata": {},
   "source": [
    "Update solver parameters\n",
    "In a non-optimization model, you can enable the search for all solutions."
   ]
  },
  {
   "cell_type": "code",
   "execution_count": 13,
   "metadata": {},
   "outputs": [],
   "source": [
    "solver = cp_model.CpSolver()\n",
    "solver.parameters.linearization_level = 0\n",
    "# Enumerate all solutions.\n",
    "solver.parameters.enumerate_all_solutions = True\n"
   ]
  },
  {
   "attachments": {},
   "cell_type": "markdown",
   "metadata": {},
   "source": [
    "Register a Solutions Callback\n",
    "You need to register a callback on the solver that will be called at each solution."
   ]
  },
  {
   "cell_type": "code",
   "execution_count": 19,
   "metadata": {},
   "outputs": [],
   "source": [
    "class NursesPartialSolutionPrinter(cp_model.CpSolverSolutionCallback):\n",
    "    \"\"\"Print intermediate solutions.\"\"\"\n",
    "\n",
    "    def __init__(self, shifts, num_nurses, num_days, num_shifts, limit):\n",
    "        cp_model.CpSolverSolutionCallback.__init__(self)\n",
    "        self._shifts = shifts\n",
    "        self._num_nurses = num_nurses\n",
    "        self._num_days = num_days\n",
    "        self._num_shifts = num_shifts\n",
    "        self._solution_count = 0\n",
    "        self._solution_limit = limit\n",
    "\n",
    "    def on_solution_callback(self):\n",
    "        self._solution_count += 1\n",
    "        print(f'Solution {self._solution_count}')\n",
    "        for d in range(self._num_days):\n",
    "            print(f'Day {d}')\n",
    "            for n in range(self._num_nurses):\n",
    "                is_working = False\n",
    "                for s in range(self._num_shifts):\n",
    "                    if self.Value(self._shifts[(n, d, s)]):\n",
    "                        is_working = True\n",
    "                        print(f'  Nurse {n} works shift {s}')\n",
    "                if not is_working:\n",
    "                    print(f'  Nurse {n} does not work')\n",
    "        if self._solution_count >= self._solution_limit:\n",
    "            print(f'Stop search after {self._solution_limit} solutions' )\n",
    "            self.StopSearch()\n",
    "\n",
    "    def solution_count(self):\n",
    "        return self._solution_count\n",
    "\n",
    "# Display the first five solutions.\n",
    "solution_limit = 5\n",
    "solution_printer = NursesPartialSolutionPrinter(shifts, num_nurses,\n",
    "                                                num_days, num_shifts,\n",
    "                                                solution_limit)"
   ]
  },
  {
   "cell_type": "code",
   "execution_count": 20,
   "metadata": {},
   "outputs": [
    {
     "name": "stdout",
     "output_type": "stream",
     "text": [
      "Solution 1\n",
      "Day 0\n",
      "  Nurse 0 does not work\n",
      "  Nurse 1 works shift 0\n",
      "  Nurse 2 works shift 1\n",
      "  Nurse 3 works shift 2\n",
      "Day 1\n",
      "  Nurse 0 works shift 2\n",
      "  Nurse 1 does not work\n",
      "  Nurse 2 works shift 1\n",
      "  Nurse 3 works shift 0\n",
      "Day 2\n",
      "  Nurse 0 works shift 2\n",
      "  Nurse 1 works shift 1\n",
      "  Nurse 2 works shift 0\n",
      "  Nurse 3 does not work\n",
      "Solution 2\n",
      "Day 0\n",
      "  Nurse 0 works shift 0\n",
      "  Nurse 1 does not work\n",
      "  Nurse 2 works shift 1\n",
      "  Nurse 3 works shift 2\n",
      "Day 1\n",
      "  Nurse 0 does not work\n",
      "  Nurse 1 works shift 2\n",
      "  Nurse 2 works shift 1\n",
      "  Nurse 3 works shift 0\n",
      "Day 2\n",
      "  Nurse 0 works shift 2\n",
      "  Nurse 1 works shift 1\n",
      "  Nurse 2 works shift 0\n",
      "  Nurse 3 does not work\n",
      "Solution 3\n",
      "Day 0\n",
      "  Nurse 0 works shift 0\n",
      "  Nurse 1 does not work\n",
      "  Nurse 2 works shift 1\n",
      "  Nurse 3 works shift 2\n",
      "Day 1\n",
      "  Nurse 0 works shift 1\n",
      "  Nurse 1 works shift 2\n",
      "  Nurse 2 does not work\n",
      "  Nurse 3 works shift 0\n",
      "Day 2\n",
      "  Nurse 0 works shift 2\n",
      "  Nurse 1 works shift 1\n",
      "  Nurse 2 works shift 0\n",
      "  Nurse 3 does not work\n",
      "Solution 4\n",
      "Day 0\n",
      "  Nurse 0 works shift 0\n",
      "  Nurse 1 does not work\n",
      "  Nurse 2 works shift 1\n",
      "  Nurse 3 works shift 2\n",
      "Day 1\n",
      "  Nurse 0 works shift 2\n",
      "  Nurse 1 works shift 1\n",
      "  Nurse 2 does not work\n",
      "  Nurse 3 works shift 0\n",
      "Day 2\n",
      "  Nurse 0 works shift 2\n",
      "  Nurse 1 works shift 1\n",
      "  Nurse 2 works shift 0\n",
      "  Nurse 3 does not work\n",
      "Solution 5\n",
      "Day 0\n",
      "  Nurse 0 does not work\n",
      "  Nurse 1 works shift 0\n",
      "  Nurse 2 works shift 1\n",
      "  Nurse 3 works shift 2\n",
      "Day 1\n",
      "  Nurse 0 works shift 2\n",
      "  Nurse 1 works shift 1\n",
      "  Nurse 2 does not work\n",
      "  Nurse 3 works shift 0\n",
      "Day 2\n",
      "  Nurse 0 works shift 2\n",
      "  Nurse 1 works shift 1\n",
      "  Nurse 2 works shift 0\n",
      "  Nurse 3 does not work\n",
      "Stop search after 5 solutions\n"
     ]
    },
    {
     "data": {
      "text/plain": [
       "2"
      ]
     },
     "execution_count": 20,
     "metadata": {},
     "output_type": "execute_result"
    }
   ],
   "source": [
    "solver.Solve(model, solution_printer)"
   ]
  }
 ],
 "metadata": {
  "kernelspec": {
   "display_name": ".venv",
   "language": "python",
   "name": "python3"
  },
  "language_info": {
   "codemirror_mode": {
    "name": "ipython",
    "version": 3
   },
   "file_extension": ".py",
   "mimetype": "text/x-python",
   "name": "python",
   "nbconvert_exporter": "python",
   "pygments_lexer": "ipython3",
   "version": "3.11.1 (tags/v3.11.1:a7a450f, Dec  6 2022, 19:58:39) [MSC v.1934 64 bit (AMD64)]"
  },
  "orig_nbformat": 4,
  "vscode": {
   "interpreter": {
    "hash": "3267063ba448785659c8ce1e2a28a9c4b81488649f0cce3002aefc719b9bac15"
   }
  }
 },
 "nbformat": 4,
 "nbformat_minor": 2
}

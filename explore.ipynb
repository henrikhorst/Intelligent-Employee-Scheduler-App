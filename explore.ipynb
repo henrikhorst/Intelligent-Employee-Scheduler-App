{
 "cells": [
  {
   "attachments": {},
   "cell_type": "markdown",
   "metadata": {},
   "source": [
    "# Pflegekräfte Schichtplanung"
   ]
  },
  {
   "attachments": {},
   "cell_type": "markdown",
   "metadata": {},
   "source": [
    "In diesem Beispiel muss eine Station eine Schichtplanung erstellen für vier Pflegekräfte und für 3 Tage unter folgenden Bedingungen:\n",
    "- Jeder Tag ist unterteilt in drei 8 Stunden Schichten\n",
    "- Jeden Tag ist jede Schicht einer Pflegekraft zugeteilt und keine Pflegekraft arbeitet mehr als eine Schicht"
   ]
  }
 ],
 "metadata": {
  "kernelspec": {
   "display_name": ".venv",
   "language": "python",
   "name": "python3"
  },
  "language_info": {
   "codemirror_mode": {
    "name": "ipython",
    "version": 3
   },
   "file_extension": ".py",
   "mimetype": "text/x-python",
   "name": "python",
   "nbconvert_exporter": "python",
   "pygments_lexer": "ipython3",
   "version": "3.11.1"
  },
  "orig_nbformat": 4,
  "vscode": {
   "interpreter": {
    "hash": "3267063ba448785659c8ce1e2a28a9c4b81488649f0cce3002aefc719b9bac15"
   }
  }
 },
 "nbformat": 4,
 "nbformat_minor": 2
}
